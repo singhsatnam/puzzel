{
 "cells": [
  {
   "cell_type": "code",
   "execution_count": 10,
   "id": "3172bfa8",
   "metadata": {},
   "outputs": [
    {
     "name": "stdout",
     "output_type": "stream",
     "text": [
      "[3, 1, 7, 6, 2, 9, 4, 8, 5]\n",
      "\n",
      "[1, 2, 4, 5, 3, 9, 7, 8, 6]\n",
      "<class 'list'>\n",
      "[1, 2, 3, 4, 5, 6, 7, 8, 9]\n"
     ]
    }
   ],
   "source": [
    "import heapq\n",
    "arr = [3, 1, 7, 6, 2, 9, 4, 8, 5]\n",
    "print(arr)\n",
    "print()\n",
    "heapq.heapify(arr)\n",
    "print(arr)\n",
    "print(type(arr))\n",
    "print([heapq.heappop(arr) for i in range(len(arr))])\n",
    "print(\"hello\")\n"
   ]
  },
  {
   "cell_type": "code",
   "execution_count": 9,
   "id": "50653add",
   "metadata": {},
   "outputs": [
    {
     "name": "stdout",
     "output_type": "stream",
     "text": [
      "[1, 2, 3, 4, 5, 6, 7, 8, 9]\n"
     ]
    }
   ],
   "source": []
  },
  {
   "cell_type": "code",
   "execution_count": null,
   "id": "ef27b1c6",
   "metadata": {},
   "outputs": [],
   "source": []
  }
 ],
 "metadata": {
  "kernelspec": {
   "display_name": "Python 3 (ipykernel)",
   "language": "python",
   "name": "python3"
  },
  "language_info": {
   "codemirror_mode": {
    "name": "ipython",
    "version": 3
   },
   "file_extension": ".py",
   "mimetype": "text/x-python",
   "name": "python",
   "nbconvert_exporter": "python",
   "pygments_lexer": "ipython3",
   "version": "3.8.12"
  }
 },
 "nbformat": 4,
 "nbformat_minor": 5
}